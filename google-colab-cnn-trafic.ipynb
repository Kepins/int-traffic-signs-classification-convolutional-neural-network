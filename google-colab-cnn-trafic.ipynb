{
  "nbformat": 4,
  "nbformat_minor": 0,
  "metadata": {
    "colab": {
      "provenance": [],
      "gpuType": "T4"
    },
    "kernelspec": {
      "name": "python3",
      "display_name": "Python 3"
    },
    "language_info": {
      "name": "python"
    },
    "accelerator": "GPU"
  },
  "cells": [
    {
      "cell_type": "markdown",
      "source": [
        "## Imports"
      ],
      "metadata": {
        "id": "V5z9OxMg0dJO"
      }
    },
    {
      "cell_type": "code",
      "execution_count": 1,
      "metadata": {
        "colab": {
          "base_uri": "https://localhost:8080/"
        },
        "id": "f588uNI7LcLB",
        "outputId": "a0da61eb-e561-4f74-8c0c-064b33e28cfd"
      },
      "outputs": [
        {
          "output_type": "stream",
          "name": "stdout",
          "text": [
            "Tensorflow version 2.13.0\n"
          ]
        }
      ],
      "source": [
        "import os\n",
        "import random\n",
        "\n",
        "import cv2\n",
        "import numpy as np\n",
        "import pandas as pd\n",
        "\n",
        "import tensorflow as tf\n",
        "print(\"Tensorflow version \" + tf.__version__)\n",
        "from tensorflow.keras import layers, models\n",
        "from keras.callbacks import Callback"
      ]
    },
    {
      "cell_type": "code",
      "source": [
        "# %load_ext tensorboard"
      ],
      "metadata": {
        "id": "VpZI57A6XbHT"
      },
      "execution_count": 2,
      "outputs": []
    },
    {
      "cell_type": "markdown",
      "source": [
        "## Extract dataset from drive"
      ],
      "metadata": {
        "id": "qu0zt0p00k5w"
      }
    },
    {
      "cell_type": "code",
      "source": [
        "from google.colab import drive\n",
        "drive.mount('/content/drive/')"
      ],
      "metadata": {
        "colab": {
          "base_uri": "https://localhost:8080/"
        },
        "id": "e8K4pjEuLySz",
        "outputId": "aa409277-8796-4388-c92c-2e9d8c7ca331"
      },
      "execution_count": 3,
      "outputs": [
        {
          "output_type": "stream",
          "name": "stdout",
          "text": [
            "Mounted at /content/drive/\n"
          ]
        }
      ]
    },
    {
      "cell_type": "code",
      "source": [
        "!mkdir dataset/"
      ],
      "metadata": {
        "id": "STCXLz7SeYig"
      },
      "execution_count": 4,
      "outputs": []
    },
    {
      "cell_type": "code",
      "source": [
        "!unzip -q drive/MyDrive/dataset-cnn-trafic/43-classes.zip -d dataset/"
      ],
      "metadata": {
        "id": "5o0KBk0zfUcE"
      },
      "execution_count": 5,
      "outputs": []
    },
    {
      "cell_type": "markdown",
      "source": [
        "## Define paths"
      ],
      "metadata": {
        "id": "rapEjVu2Xpnj"
      }
    },
    {
      "cell_type": "code",
      "source": [
        "path_dataset = \"dataset\"\n",
        "path_train_csv = os.path.join(path_dataset, \"train.csv\")\n",
        "path_test_csv = os.path.join(path_dataset, \"test.csv\")\n",
        "path_train_imgs = os.path.join(path_dataset, \"train\")\n",
        "path_test_imgs = os.path.join(path_dataset, \"test\")"
      ],
      "metadata": {
        "id": "Q-Fg6mj3XLTT"
      },
      "execution_count": 6,
      "outputs": []
    },
    {
      "cell_type": "markdown",
      "source": [
        "## Load dataframes"
      ],
      "metadata": {
        "id": "My0LhkUu0U_u"
      }
    },
    {
      "cell_type": "code",
      "source": [
        "df_train_val = pd.read_csv(path_train_csv, sep=\";\", index_col=0)\n",
        "df_test = pd.read_csv(path_test_csv, sep=\";\", index_col=0)"
      ],
      "metadata": {
        "id": "o-g7j740nd5m"
      },
      "execution_count": 7,
      "outputs": []
    },
    {
      "cell_type": "markdown",
      "source": [
        "## Split into train and validate datasets"
      ],
      "metadata": {
        "id": "wkhM48nMhC5N"
      }
    },
    {
      "cell_type": "code",
      "source": [
        "random.seed(10)\n",
        "train_val_index = np.array(df_train_val.index)\n",
        "random.shuffle(train_val_index)\n",
        "\n",
        "ratio = 0.07\n",
        "\n",
        "df_val = df_train_val.iloc[train_val_index[:int(len(train_val_index)*ratio)]]\n",
        "df_train = df_train_val.iloc[train_val_index[int(len(train_val_index)*ratio):]]"
      ],
      "metadata": {
        "id": "_rq8OE3PeMZ8"
      },
      "execution_count": 8,
      "outputs": []
    },
    {
      "cell_type": "code",
      "source": [
        "train_images = df_train[\"Filename\"].apply(lambda f:\n",
        " tf.keras.utils.img_to_array(tf.keras.utils.load_img(os.path.join(path_train_imgs,f)))/ 255.0)\n",
        "train_images = np.concatenate([[arr] for arr in train_images])"
      ],
      "metadata": {
        "id": "BfksXjDUK3UT"
      },
      "execution_count": 9,
      "outputs": []
    },
    {
      "cell_type": "code",
      "source": [
        "val_images = df_val[\"Filename\"].apply(lambda f:\n",
        " tf.keras.utils.img_to_array(tf.keras.utils.load_img(os.path.join(path_train_imgs,f)))/ 255.0)\n",
        "val_images = np.concatenate([[arr] for arr in val_images])"
      ],
      "metadata": {
        "id": "6yVp8sGYhd4-"
      },
      "execution_count": 10,
      "outputs": []
    },
    {
      "cell_type": "code",
      "source": [
        "train_labels = df_train[\"ClassId\"].to_numpy()\n",
        "train_lables = train_labels.reshape(-1,1)"
      ],
      "metadata": {
        "id": "sYMyqI2cUubx"
      },
      "execution_count": 11,
      "outputs": []
    },
    {
      "cell_type": "code",
      "source": [
        "val_labels = df_val[\"ClassId\"].to_numpy()\n",
        "val_labels = val_labels.reshape(-1,1)"
      ],
      "metadata": {
        "id": "WhvxOJXZhnfw"
      },
      "execution_count": 12,
      "outputs": []
    },
    {
      "cell_type": "code",
      "source": [
        "NUM_CLASSES = 43\n",
        "\n",
        "model = models.Sequential()\n",
        "model.add(layers.Conv2D(32, (5, 5), activation='relu', input_shape=(32, 32, 3)))\n",
        "model.add(layers.MaxPooling2D((2, 2)))\n",
        "model.add(layers.Conv2D(48, (5, 5), activation='relu'))\n",
        "model.add(layers.MaxPooling2D((2, 2)))\n",
        "model.add(layers.Conv2D(32, (5, 5), activation='relu'))\n",
        "model.add(layers.Flatten())\n",
        "model.add(layers.Dense(NUM_CLASSES, activation='relu'))\n",
        "model.add(layers.Dense(NUM_CLASSES))\n",
        "\n",
        "model.compile(optimizer='adam',\n",
        "              loss=tf.keras.losses.SparseCategoricalCrossentropy(from_logits=True),\n",
        "              metrics=['accuracy'])\n",
        "\n",
        "model.summary()"
      ],
      "metadata": {
        "colab": {
          "base_uri": "https://localhost:8080/"
        },
        "id": "yKz5fGhOEUAm",
        "outputId": "0dd01f0d-b951-47d1-bb8e-bef8c44e2cf1"
      },
      "execution_count": 13,
      "outputs": [
        {
          "output_type": "stream",
          "name": "stdout",
          "text": [
            "Model: \"sequential\"\n",
            "_________________________________________________________________\n",
            " Layer (type)                Output Shape              Param #   \n",
            "=================================================================\n",
            " conv2d (Conv2D)             (None, 28, 28, 32)        2432      \n",
            "                                                                 \n",
            " max_pooling2d (MaxPooling2  (None, 14, 14, 32)        0         \n",
            " D)                                                              \n",
            "                                                                 \n",
            " conv2d_1 (Conv2D)           (None, 10, 10, 48)        38448     \n",
            "                                                                 \n",
            " max_pooling2d_1 (MaxPoolin  (None, 5, 5, 48)          0         \n",
            " g2D)                                                            \n",
            "                                                                 \n",
            " conv2d_2 (Conv2D)           (None, 1, 1, 32)          38432     \n",
            "                                                                 \n",
            " flatten (Flatten)           (None, 32)                0         \n",
            "                                                                 \n",
            " dense (Dense)               (None, 43)                1419      \n",
            "                                                                 \n",
            " dense_1 (Dense)             (None, 43)                1892      \n",
            "                                                                 \n",
            "=================================================================\n",
            "Total params: 82623 (322.75 KB)\n",
            "Trainable params: 82623 (322.75 KB)\n",
            "Non-trainable params: 0 (0.00 Byte)\n",
            "_________________________________________________________________\n"
          ]
        }
      ]
    },
    {
      "cell_type": "code",
      "source": [
        "class SaveEveryNEpochs(Callback):\n",
        "    def __init__(self, filepath, n_epochs):\n",
        "        super(SaveEveryNEpochs, self).__init__()\n",
        "        self.filepath = filepath\n",
        "        self.n_epochs = n_epochs\n",
        "\n",
        "    def on_epoch_end(self, epoch, logs=None):\n",
        "        if (epoch + 1) % self.n_epochs == 0:\n",
        "            print(\"Saving\")\n",
        "            self.model.save(self.filepath.format(epoch=epoch + 1))"
      ],
      "metadata": {
        "id": "z4RCzmg_WsGb"
      },
      "execution_count": 14,
      "outputs": []
    },
    {
      "cell_type": "code",
      "source": [
        "my_callbacks = [\n",
        "    SaveEveryNEpochs(filepath=\"model.{epoch:02d}.keras\", n_epochs=30),\n",
        "    tf.keras.callbacks.TensorBoard(log_dir='./logs'),\n",
        "]\n",
        "\n",
        "history = model.fit(train_images, train_labels, epochs=120, batch_size=2048,\n",
        "                    validation_data=(val_images, val_labels), callbacks=my_callbacks)"
      ],
      "metadata": {
        "colab": {
          "base_uri": "https://localhost:8080/"
        },
        "id": "8lDmsHLKU6tt",
        "outputId": "1757efa6-4f05-4317-9299-1d1ee1bb913c"
      },
      "execution_count": 15,
      "outputs": [
        {
          "output_type": "stream",
          "name": "stdout",
          "text": [
            "Epoch 1/120\n",
            " 5/18 [=======>......................] - ETA: 0s - loss: 3.7528 - accuracy: 0.0313"
          ]
        },
        {
          "output_type": "stream",
          "name": "stderr",
          "text": [
            "WARNING:tensorflow:Callback method `on_train_batch_end` is slow compared to the batch time (batch time: 0.0206s vs `on_train_batch_end` time: 0.0230s). Check your callbacks.\n"
          ]
        },
        {
          "output_type": "stream",
          "name": "stdout",
          "text": [
            "18/18 [==============================] - 14s 118ms/step - loss: 3.6616 - accuracy: 0.0508 - val_loss: 3.4650 - val_accuracy: 0.0791\n",
            "Epoch 2/120\n",
            "18/18 [==============================] - 1s 68ms/step - loss: 3.1483 - accuracy: 0.2172 - val_loss: 2.7738 - val_accuracy: 0.3017\n",
            "Epoch 3/120\n",
            "18/18 [==============================] - 1s 71ms/step - loss: 2.4215 - accuracy: 0.4125 - val_loss: 2.0851 - val_accuracy: 0.4985\n",
            "Epoch 4/120\n",
            "18/18 [==============================] - 1s 52ms/step - loss: 1.7621 - accuracy: 0.5662 - val_loss: 1.4894 - val_accuracy: 0.6348\n",
            "Epoch 5/120\n",
            "18/18 [==============================] - 1s 53ms/step - loss: 1.2518 - accuracy: 0.6879 - val_loss: 1.0757 - val_accuracy: 0.7456\n",
            "Epoch 6/120\n",
            "18/18 [==============================] - 1s 48ms/step - loss: 0.9280 - accuracy: 0.7711 - val_loss: 0.8212 - val_accuracy: 0.8058\n",
            "Epoch 7/120\n",
            "18/18 [==============================] - 1s 48ms/step - loss: 0.7289 - accuracy: 0.8302 - val_loss: 0.6653 - val_accuracy: 0.8550\n",
            "Epoch 8/120\n",
            "18/18 [==============================] - 1s 49ms/step - loss: 0.6046 - accuracy: 0.8641 - val_loss: 0.5820 - val_accuracy: 0.8677\n",
            "Epoch 9/120\n",
            "18/18 [==============================] - 1s 50ms/step - loss: 0.5154 - accuracy: 0.8893 - val_loss: 0.4883 - val_accuracy: 0.9001\n",
            "Epoch 10/120\n",
            "18/18 [==============================] - 1s 48ms/step - loss: 0.4451 - accuracy: 0.9052 - val_loss: 0.4253 - val_accuracy: 0.9103\n",
            "Epoch 11/120\n",
            "18/18 [==============================] - 1s 50ms/step - loss: 0.3927 - accuracy: 0.9174 - val_loss: 0.3767 - val_accuracy: 0.9220\n",
            "Epoch 12/120\n",
            "18/18 [==============================] - 1s 49ms/step - loss: 0.3484 - accuracy: 0.9271 - val_loss: 0.3389 - val_accuracy: 0.9348\n",
            "Epoch 13/120\n",
            "18/18 [==============================] - 1s 48ms/step - loss: 0.3141 - accuracy: 0.9353 - val_loss: 0.3024 - val_accuracy: 0.9370\n",
            "Epoch 14/120\n",
            "18/18 [==============================] - 1s 50ms/step - loss: 0.2835 - accuracy: 0.9425 - val_loss: 0.2893 - val_accuracy: 0.9421\n",
            "Epoch 15/120\n",
            "18/18 [==============================] - 1s 49ms/step - loss: 0.2580 - accuracy: 0.9479 - val_loss: 0.2655 - val_accuracy: 0.9431\n",
            "Epoch 16/120\n",
            "18/18 [==============================] - 1s 47ms/step - loss: 0.2379 - accuracy: 0.9511 - val_loss: 0.2401 - val_accuracy: 0.9552\n",
            "Epoch 17/120\n",
            "18/18 [==============================] - 1s 53ms/step - loss: 0.2202 - accuracy: 0.9558 - val_loss: 0.2276 - val_accuracy: 0.9555\n",
            "Epoch 18/120\n",
            "18/18 [==============================] - 1s 53ms/step - loss: 0.2020 - accuracy: 0.9591 - val_loss: 0.2035 - val_accuracy: 0.9566\n",
            "Epoch 19/120\n",
            "18/18 [==============================] - 1s 56ms/step - loss: 0.1924 - accuracy: 0.9612 - val_loss: 0.2031 - val_accuracy: 0.9566\n",
            "Epoch 20/120\n",
            "18/18 [==============================] - 1s 54ms/step - loss: 0.1752 - accuracy: 0.9657 - val_loss: 0.1861 - val_accuracy: 0.9639\n",
            "Epoch 21/120\n",
            "18/18 [==============================] - 1s 49ms/step - loss: 0.1646 - accuracy: 0.9673 - val_loss: 0.1780 - val_accuracy: 0.9643\n",
            "Epoch 22/120\n",
            "18/18 [==============================] - 1s 48ms/step - loss: 0.1559 - accuracy: 0.9689 - val_loss: 0.1702 - val_accuracy: 0.9679\n",
            "Epoch 23/120\n",
            "18/18 [==============================] - 1s 50ms/step - loss: 0.1443 - accuracy: 0.9713 - val_loss: 0.1578 - val_accuracy: 0.9679\n",
            "Epoch 24/120\n",
            "18/18 [==============================] - 1s 47ms/step - loss: 0.1387 - accuracy: 0.9723 - val_loss: 0.1493 - val_accuracy: 0.9665\n",
            "Epoch 25/120\n",
            "18/18 [==============================] - 1s 49ms/step - loss: 0.1289 - accuracy: 0.9748 - val_loss: 0.1424 - val_accuracy: 0.9690\n",
            "Epoch 26/120\n",
            "18/18 [==============================] - 1s 49ms/step - loss: 0.1212 - accuracy: 0.9758 - val_loss: 0.1365 - val_accuracy: 0.9745\n",
            "Epoch 27/120\n",
            "18/18 [==============================] - 1s 50ms/step - loss: 0.1137 - accuracy: 0.9781 - val_loss: 0.1355 - val_accuracy: 0.9712\n",
            "Epoch 28/120\n",
            "18/18 [==============================] - 1s 49ms/step - loss: 0.1059 - accuracy: 0.9791 - val_loss: 0.1249 - val_accuracy: 0.9759\n",
            "Epoch 29/120\n",
            "18/18 [==============================] - 1s 49ms/step - loss: 0.1043 - accuracy: 0.9789 - val_loss: 0.1295 - val_accuracy: 0.9745\n",
            "Epoch 30/120\n",
            "17/18 [===========================>..] - ETA: 0s - loss: 0.0998 - accuracy: 0.9796Saving\n",
            "18/18 [==============================] - 1s 53ms/step - loss: 0.0987 - accuracy: 0.9797 - val_loss: 0.1204 - val_accuracy: 0.9767\n",
            "Epoch 31/120\n",
            "18/18 [==============================] - 1s 48ms/step - loss: 0.0901 - accuracy: 0.9826 - val_loss: 0.1129 - val_accuracy: 0.9749\n",
            "Epoch 32/120\n",
            "18/18 [==============================] - 1s 52ms/step - loss: 0.0849 - accuracy: 0.9837 - val_loss: 0.1152 - val_accuracy: 0.9730\n",
            "Epoch 33/120\n",
            "18/18 [==============================] - 1s 54ms/step - loss: 0.0821 - accuracy: 0.9831 - val_loss: 0.1091 - val_accuracy: 0.9763\n",
            "Epoch 34/120\n",
            "18/18 [==============================] - 1s 55ms/step - loss: 0.0773 - accuracy: 0.9851 - val_loss: 0.0975 - val_accuracy: 0.9814\n",
            "Epoch 35/120\n",
            "18/18 [==============================] - 1s 56ms/step - loss: 0.0716 - accuracy: 0.9864 - val_loss: 0.0967 - val_accuracy: 0.9807\n",
            "Epoch 36/120\n",
            "18/18 [==============================] - 1s 51ms/step - loss: 0.0693 - accuracy: 0.9866 - val_loss: 0.0963 - val_accuracy: 0.9803\n",
            "Epoch 37/120\n",
            "18/18 [==============================] - 1s 50ms/step - loss: 0.0672 - accuracy: 0.9869 - val_loss: 0.0904 - val_accuracy: 0.9825\n",
            "Epoch 38/120\n",
            "18/18 [==============================] - 1s 50ms/step - loss: 0.0638 - accuracy: 0.9876 - val_loss: 0.0904 - val_accuracy: 0.9807\n",
            "Epoch 39/120\n",
            "18/18 [==============================] - 1s 50ms/step - loss: 0.0626 - accuracy: 0.9877 - val_loss: 0.0831 - val_accuracy: 0.9821\n",
            "Epoch 40/120\n",
            "18/18 [==============================] - 1s 49ms/step - loss: 0.0595 - accuracy: 0.9886 - val_loss: 0.0822 - val_accuracy: 0.9843\n",
            "Epoch 41/120\n",
            "18/18 [==============================] - 1s 50ms/step - loss: 0.0543 - accuracy: 0.9900 - val_loss: 0.0815 - val_accuracy: 0.9821\n",
            "Epoch 42/120\n",
            "18/18 [==============================] - 1s 50ms/step - loss: 0.0506 - accuracy: 0.9912 - val_loss: 0.0796 - val_accuracy: 0.9832\n",
            "Epoch 43/120\n",
            "18/18 [==============================] - 1s 47ms/step - loss: 0.0484 - accuracy: 0.9916 - val_loss: 0.0770 - val_accuracy: 0.9843\n",
            "Epoch 44/120\n",
            "18/18 [==============================] - 1s 51ms/step - loss: 0.0463 - accuracy: 0.9916 - val_loss: 0.0803 - val_accuracy: 0.9836\n",
            "Epoch 45/120\n",
            "18/18 [==============================] - 1s 49ms/step - loss: 0.0457 - accuracy: 0.9915 - val_loss: 0.0761 - val_accuracy: 0.9832\n",
            "Epoch 46/120\n",
            "18/18 [==============================] - 1s 48ms/step - loss: 0.0465 - accuracy: 0.9913 - val_loss: 0.0769 - val_accuracy: 0.9814\n",
            "Epoch 47/120\n",
            "18/18 [==============================] - 1s 51ms/step - loss: 0.0431 - accuracy: 0.9923 - val_loss: 0.0726 - val_accuracy: 0.9836\n",
            "Epoch 48/120\n",
            "18/18 [==============================] - 1s 55ms/step - loss: 0.0391 - accuracy: 0.9930 - val_loss: 0.0758 - val_accuracy: 0.9843\n",
            "Epoch 49/120\n",
            "18/18 [==============================] - 1s 54ms/step - loss: 0.0376 - accuracy: 0.9932 - val_loss: 0.0684 - val_accuracy: 0.9843\n",
            "Epoch 50/120\n",
            "18/18 [==============================] - 1s 55ms/step - loss: 0.0362 - accuracy: 0.9935 - val_loss: 0.0677 - val_accuracy: 0.9843\n",
            "Epoch 51/120\n",
            "18/18 [==============================] - 1s 54ms/step - loss: 0.0350 - accuracy: 0.9942 - val_loss: 0.0669 - val_accuracy: 0.9851\n",
            "Epoch 52/120\n",
            "18/18 [==============================] - 1s 50ms/step - loss: 0.0343 - accuracy: 0.9942 - val_loss: 0.0666 - val_accuracy: 0.9851\n",
            "Epoch 53/120\n",
            "18/18 [==============================] - 1s 48ms/step - loss: 0.0336 - accuracy: 0.9940 - val_loss: 0.0626 - val_accuracy: 0.9851\n",
            "Epoch 54/120\n",
            "18/18 [==============================] - 1s 50ms/step - loss: 0.0307 - accuracy: 0.9949 - val_loss: 0.0623 - val_accuracy: 0.9869\n",
            "Epoch 55/120\n",
            "18/18 [==============================] - 1s 50ms/step - loss: 0.0290 - accuracy: 0.9950 - val_loss: 0.0617 - val_accuracy: 0.9843\n",
            "Epoch 56/120\n",
            "18/18 [==============================] - 1s 48ms/step - loss: 0.0284 - accuracy: 0.9954 - val_loss: 0.0580 - val_accuracy: 0.9854\n",
            "Epoch 57/120\n",
            "18/18 [==============================] - 1s 51ms/step - loss: 0.0286 - accuracy: 0.9949 - val_loss: 0.0641 - val_accuracy: 0.9843\n",
            "Epoch 58/120\n",
            "18/18 [==============================] - 1s 52ms/step - loss: 0.0290 - accuracy: 0.9945 - val_loss: 0.0597 - val_accuracy: 0.9865\n",
            "Epoch 59/120\n",
            "18/18 [==============================] - 1s 49ms/step - loss: 0.0252 - accuracy: 0.9959 - val_loss: 0.0554 - val_accuracy: 0.9876\n",
            "Epoch 60/120\n",
            "17/18 [===========================>..] - ETA: 0s - loss: 0.0244 - accuracy: 0.9963Saving\n",
            "18/18 [==============================] - 1s 51ms/step - loss: 0.0244 - accuracy: 0.9963 - val_loss: 0.0549 - val_accuracy: 0.9862\n",
            "Epoch 61/120\n",
            "18/18 [==============================] - 1s 49ms/step - loss: 0.0233 - accuracy: 0.9963 - val_loss: 0.0524 - val_accuracy: 0.9880\n",
            "Epoch 62/120\n",
            "18/18 [==============================] - 1s 50ms/step - loss: 0.0225 - accuracy: 0.9963 - val_loss: 0.0539 - val_accuracy: 0.9880\n",
            "Epoch 63/120\n",
            "18/18 [==============================] - 1s 54ms/step - loss: 0.0217 - accuracy: 0.9968 - val_loss: 0.0539 - val_accuracy: 0.9876\n",
            "Epoch 64/120\n",
            "18/18 [==============================] - 1s 56ms/step - loss: 0.0205 - accuracy: 0.9971 - val_loss: 0.0527 - val_accuracy: 0.9876\n",
            "Epoch 65/120\n",
            "18/18 [==============================] - 1s 55ms/step - loss: 0.0193 - accuracy: 0.9973 - val_loss: 0.0550 - val_accuracy: 0.9869\n",
            "Epoch 66/120\n",
            "18/18 [==============================] - 1s 52ms/step - loss: 0.0188 - accuracy: 0.9970 - val_loss: 0.0493 - val_accuracy: 0.9887\n",
            "Epoch 67/120\n",
            "18/18 [==============================] - 1s 49ms/step - loss: 0.0173 - accuracy: 0.9978 - val_loss: 0.0512 - val_accuracy: 0.9883\n",
            "Epoch 68/120\n",
            "18/18 [==============================] - 1s 50ms/step - loss: 0.0167 - accuracy: 0.9979 - val_loss: 0.0504 - val_accuracy: 0.9880\n",
            "Epoch 69/120\n",
            "18/18 [==============================] - 1s 48ms/step - loss: 0.0162 - accuracy: 0.9979 - val_loss: 0.0489 - val_accuracy: 0.9880\n",
            "Epoch 70/120\n",
            "18/18 [==============================] - 1s 50ms/step - loss: 0.0183 - accuracy: 0.9970 - val_loss: 0.0508 - val_accuracy: 0.9876\n",
            "Epoch 71/120\n",
            "18/18 [==============================] - 1s 50ms/step - loss: 0.0159 - accuracy: 0.9976 - val_loss: 0.0489 - val_accuracy: 0.9872\n",
            "Epoch 72/120\n",
            "18/18 [==============================] - 1s 51ms/step - loss: 0.0144 - accuracy: 0.9981 - val_loss: 0.0500 - val_accuracy: 0.9872\n",
            "Epoch 73/120\n",
            "18/18 [==============================] - 1s 50ms/step - loss: 0.0141 - accuracy: 0.9982 - val_loss: 0.0530 - val_accuracy: 0.9872\n",
            "Epoch 74/120\n",
            "18/18 [==============================] - 1s 51ms/step - loss: 0.0133 - accuracy: 0.9982 - val_loss: 0.0522 - val_accuracy: 0.9876\n",
            "Epoch 75/120\n",
            "18/18 [==============================] - 1s 50ms/step - loss: 0.0133 - accuracy: 0.9983 - val_loss: 0.0477 - val_accuracy: 0.9894\n",
            "Epoch 76/120\n",
            "18/18 [==============================] - 1s 50ms/step - loss: 0.0126 - accuracy: 0.9983 - val_loss: 0.0509 - val_accuracy: 0.9876\n",
            "Epoch 77/120\n",
            "18/18 [==============================] - 1s 50ms/step - loss: 0.0130 - accuracy: 0.9983 - val_loss: 0.0512 - val_accuracy: 0.9883\n",
            "Epoch 78/120\n",
            "18/18 [==============================] - 1s 53ms/step - loss: 0.0123 - accuracy: 0.9983 - val_loss: 0.0519 - val_accuracy: 0.9862\n",
            "Epoch 79/120\n",
            "18/18 [==============================] - 1s 58ms/step - loss: 0.0116 - accuracy: 0.9983 - val_loss: 0.0514 - val_accuracy: 0.9891\n",
            "Epoch 80/120\n",
            "18/18 [==============================] - 1s 55ms/step - loss: 0.0107 - accuracy: 0.9989 - val_loss: 0.0503 - val_accuracy: 0.9887\n",
            "Epoch 81/120\n",
            "18/18 [==============================] - 1s 56ms/step - loss: 0.0101 - accuracy: 0.9988 - val_loss: 0.0497 - val_accuracy: 0.9869\n",
            "Epoch 82/120\n",
            "18/18 [==============================] - 1s 50ms/step - loss: 0.0112 - accuracy: 0.9984 - val_loss: 0.0563 - val_accuracy: 0.9872\n",
            "Epoch 83/120\n",
            "18/18 [==============================] - 1s 51ms/step - loss: 0.0110 - accuracy: 0.9985 - val_loss: 0.0575 - val_accuracy: 0.9880\n",
            "Epoch 84/120\n",
            "18/18 [==============================] - 1s 50ms/step - loss: 0.0102 - accuracy: 0.9988 - val_loss: 0.0471 - val_accuracy: 0.9887\n",
            "Epoch 85/120\n",
            "18/18 [==============================] - 1s 50ms/step - loss: 0.0096 - accuracy: 0.9988 - val_loss: 0.0500 - val_accuracy: 0.9872\n",
            "Epoch 86/120\n",
            "18/18 [==============================] - 1s 51ms/step - loss: 0.0090 - accuracy: 0.9990 - val_loss: 0.0497 - val_accuracy: 0.9887\n",
            "Epoch 87/120\n",
            "18/18 [==============================] - 1s 50ms/step - loss: 0.0101 - accuracy: 0.9985 - val_loss: 0.0602 - val_accuracy: 0.9876\n",
            "Epoch 88/120\n",
            "18/18 [==============================] - 1s 51ms/step - loss: 0.0116 - accuracy: 0.9979 - val_loss: 0.0521 - val_accuracy: 0.9869\n",
            "Epoch 89/120\n",
            "18/18 [==============================] - 1s 50ms/step - loss: 0.0095 - accuracy: 0.9987 - val_loss: 0.0539 - val_accuracy: 0.9880\n",
            "Epoch 90/120\n",
            "18/18 [==============================] - ETA: 0s - loss: 0.0088 - accuracy: 0.9986Saving\n",
            "18/18 [==============================] - 1s 53ms/step - loss: 0.0088 - accuracy: 0.9986 - val_loss: 0.0541 - val_accuracy: 0.9876\n",
            "Epoch 91/120\n",
            "18/18 [==============================] - 1s 49ms/step - loss: 0.0071 - accuracy: 0.9994 - val_loss: 0.0456 - val_accuracy: 0.9891\n",
            "Epoch 92/120\n",
            "18/18 [==============================] - 1s 51ms/step - loss: 0.0068 - accuracy: 0.9994 - val_loss: 0.0496 - val_accuracy: 0.9883\n",
            "Epoch 93/120\n",
            "18/18 [==============================] - 1s 57ms/step - loss: 0.0065 - accuracy: 0.9995 - val_loss: 0.0477 - val_accuracy: 0.9898\n",
            "Epoch 94/120\n",
            "18/18 [==============================] - 1s 57ms/step - loss: 0.0063 - accuracy: 0.9994 - val_loss: 0.0469 - val_accuracy: 0.9898\n",
            "Epoch 95/120\n",
            "18/18 [==============================] - 1s 55ms/step - loss: 0.0058 - accuracy: 0.9996 - val_loss: 0.0485 - val_accuracy: 0.9891\n",
            "Epoch 96/120\n",
            "18/18 [==============================] - 1s 55ms/step - loss: 0.0056 - accuracy: 0.9996 - val_loss: 0.0494 - val_accuracy: 0.9894\n",
            "Epoch 97/120\n",
            "18/18 [==============================] - 1s 50ms/step - loss: 0.0057 - accuracy: 0.9996 - val_loss: 0.0499 - val_accuracy: 0.9887\n",
            "Epoch 98/120\n",
            "18/18 [==============================] - 1s 51ms/step - loss: 0.0055 - accuracy: 0.9995 - val_loss: 0.0492 - val_accuracy: 0.9891\n",
            "Epoch 99/120\n",
            "18/18 [==============================] - 1s 51ms/step - loss: 0.0053 - accuracy: 0.9995 - val_loss: 0.0555 - val_accuracy: 0.9880\n",
            "Epoch 100/120\n",
            "18/18 [==============================] - 1s 50ms/step - loss: 0.0060 - accuracy: 0.9993 - val_loss: 0.0509 - val_accuracy: 0.9876\n",
            "Epoch 101/120\n",
            "18/18 [==============================] - 1s 49ms/step - loss: 0.0050 - accuracy: 0.9997 - val_loss: 0.0504 - val_accuracy: 0.9894\n",
            "Epoch 102/120\n",
            "18/18 [==============================] - 1s 51ms/step - loss: 0.0049 - accuracy: 0.9996 - val_loss: 0.0464 - val_accuracy: 0.9894\n",
            "Epoch 103/120\n",
            "18/18 [==============================] - 1s 50ms/step - loss: 0.0043 - accuracy: 0.9998 - val_loss: 0.0489 - val_accuracy: 0.9902\n",
            "Epoch 104/120\n",
            "18/18 [==============================] - 1s 49ms/step - loss: 0.0041 - accuracy: 0.9998 - val_loss: 0.0525 - val_accuracy: 0.9887\n",
            "Epoch 105/120\n",
            "18/18 [==============================] - 1s 51ms/step - loss: 0.0039 - accuracy: 0.9998 - val_loss: 0.0489 - val_accuracy: 0.9880\n",
            "Epoch 106/120\n",
            "18/18 [==============================] - 1s 50ms/step - loss: 0.0040 - accuracy: 0.9998 - val_loss: 0.0543 - val_accuracy: 0.9880\n",
            "Epoch 107/120\n",
            "18/18 [==============================] - 1s 51ms/step - loss: 0.0038 - accuracy: 0.9999 - val_loss: 0.0522 - val_accuracy: 0.9887\n",
            "Epoch 108/120\n",
            "18/18 [==============================] - 1s 55ms/step - loss: 0.0036 - accuracy: 0.9997 - val_loss: 0.0496 - val_accuracy: 0.9891\n",
            "Epoch 109/120\n",
            "18/18 [==============================] - 1s 56ms/step - loss: 0.0033 - accuracy: 0.9999 - val_loss: 0.0511 - val_accuracy: 0.9887\n",
            "Epoch 110/120\n",
            "18/18 [==============================] - 1s 56ms/step - loss: 0.0032 - accuracy: 0.9999 - val_loss: 0.0518 - val_accuracy: 0.9891\n",
            "Epoch 111/120\n",
            "18/18 [==============================] - 1s 56ms/step - loss: 0.0032 - accuracy: 0.9999 - val_loss: 0.0577 - val_accuracy: 0.9876\n",
            "Epoch 112/120\n",
            "18/18 [==============================] - 1s 51ms/step - loss: 0.0031 - accuracy: 0.9999 - val_loss: 0.0512 - val_accuracy: 0.9880\n",
            "Epoch 113/120\n",
            "18/18 [==============================] - 1s 51ms/step - loss: 0.0030 - accuracy: 0.9999 - val_loss: 0.0536 - val_accuracy: 0.9898\n",
            "Epoch 114/120\n",
            "18/18 [==============================] - 1s 52ms/step - loss: 0.0029 - accuracy: 0.9998 - val_loss: 0.0517 - val_accuracy: 0.9887\n",
            "Epoch 115/120\n",
            "18/18 [==============================] - 1s 49ms/step - loss: 0.0028 - accuracy: 0.9999 - val_loss: 0.0525 - val_accuracy: 0.9891\n",
            "Epoch 116/120\n",
            "18/18 [==============================] - 1s 51ms/step - loss: 0.0028 - accuracy: 0.9999 - val_loss: 0.0557 - val_accuracy: 0.9880\n",
            "Epoch 117/120\n",
            "18/18 [==============================] - 1s 49ms/step - loss: 0.0026 - accuracy: 0.9999 - val_loss: 0.0519 - val_accuracy: 0.9891\n",
            "Epoch 118/120\n",
            "18/18 [==============================] - 1s 50ms/step - loss: 0.0025 - accuracy: 0.9999 - val_loss: 0.0525 - val_accuracy: 0.9880\n",
            "Epoch 119/120\n",
            "18/18 [==============================] - 1s 50ms/step - loss: 0.0024 - accuracy: 0.9999 - val_loss: 0.0553 - val_accuracy: 0.9883\n",
            "Epoch 120/120\n",
            "18/18 [==============================] - ETA: 0s - loss: 0.0023 - accuracy: 0.9999Saving\n",
            "18/18 [==============================] - 1s 52ms/step - loss: 0.0023 - accuracy: 0.9999 - val_loss: 0.0518 - val_accuracy: 0.9898\n"
          ]
        }
      ]
    },
    {
      "cell_type": "code",
      "source": [
        "model.save('my_model.keras')"
      ],
      "metadata": {
        "id": "V6G2hvl6Y6_L"
      },
      "execution_count": 16,
      "outputs": []
    },
    {
      "cell_type": "code",
      "source": [
        "test_images = df_test[\"Filename\"].apply(lambda f:\n",
        " [tf.keras.utils.img_to_array(tf.keras.utils.load_img(os.path.join(path_test_imgs, f)))/ 255.0])\n",
        "test_images = np.concatenate(test_images)\n",
        "\n",
        "test_labels = df_test[\"ClassId\"].to_numpy()\n",
        "test_labels = test_labels.reshape(-1,1)"
      ],
      "metadata": {
        "id": "ADsajspWZpDT"
      },
      "execution_count": 17,
      "outputs": []
    },
    {
      "cell_type": "code",
      "source": [
        "model.evaluate(test_images, test_labels)"
      ],
      "metadata": {
        "colab": {
          "base_uri": "https://localhost:8080/"
        },
        "id": "jodj5BJJpQf5",
        "outputId": "f31f1b02-7fd9-4fd7-f0a2-2cbb65c9e16e"
      },
      "execution_count": 18,
      "outputs": [
        {
          "output_type": "stream",
          "name": "stdout",
          "text": [
            "395/395 [==============================] - 2s 4ms/step - loss: 0.6826 - accuracy: 0.9392\n"
          ]
        },
        {
          "output_type": "execute_result",
          "data": {
            "text/plain": [
              "[0.6826120615005493, 0.9391924142837524]"
            ]
          },
          "metadata": {},
          "execution_count": 18
        }
      ]
    },
    {
      "cell_type": "code",
      "source": [
        "model.predict(np.expand_dims(test_images[-1], axis=0)).argmax(axis=-1)"
      ],
      "metadata": {
        "colab": {
          "base_uri": "https://localhost:8080/"
        },
        "id": "dr8wNGddvusi",
        "outputId": "28313206-1e13-4744-cc5b-95ad5ff71433"
      },
      "execution_count": 19,
      "outputs": [
        {
          "output_type": "stream",
          "name": "stdout",
          "text": [
            "1/1 [==============================] - 0s 195ms/step\n"
          ]
        },
        {
          "output_type": "execute_result",
          "data": {
            "text/plain": [
              "array([10])"
            ]
          },
          "metadata": {},
          "execution_count": 19
        }
      ]
    }
  ]
}