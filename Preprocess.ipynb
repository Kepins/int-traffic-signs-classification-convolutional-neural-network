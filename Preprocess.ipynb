{
 "cells": [
  {
   "cell_type": "markdown",
   "id": "b8514bff-43cf-40ed-8a74-cd947b6da5b0",
   "metadata": {},
   "source": [
    "# Setup"
   ]
  },
  {
   "cell_type": "markdown",
   "id": "a8a90b43-1a43-4aad-abe6-4a2407dc6e61",
   "metadata": {},
   "source": [
    "## Imports"
   ]
  },
  {
   "cell_type": "code",
   "execution_count": 1,
   "id": "173a212a-0f00-4970-ad94-ec31cf6ee0c5",
   "metadata": {},
   "outputs": [],
   "source": [
    "import os\n",
    "import shutil\n",
    "\n",
    "import pandas as pd\n",
    "import numpy as np\n",
    "import cv2"
   ]
  },
  {
   "cell_type": "markdown",
   "id": "a3b36a27-f22a-4cf6-88a6-c164e9fa642b",
   "metadata": {},
   "source": [
    "## Output"
   ]
  },
  {
   "cell_type": "markdown",
   "id": "bb7c51a1-8e66-4aa1-a853-53f4bb1c4bc0",
   "metadata": {},
   "source": [
    "### Name of output dataset"
   ]
  },
  {
   "cell_type": "code",
   "execution_count": 24,
   "id": "b7eb7d77-bf05-4049-afe5-3d08b0b6704e",
   "metadata": {},
   "outputs": [],
   "source": [
    "dataset_name = \"43-classes\"\n",
    "# dataset_name = \"12-classes\""
   ]
  },
  {
   "cell_type": "markdown",
   "id": "e90cd6c0-6ddb-42b5-a8ed-bd8e1da73ec8",
   "metadata": {},
   "source": [
    "### What classes from initial dataset to use"
   ]
  },
  {
   "cell_type": "code",
   "execution_count": 25,
   "id": "4f3da1f3-9934-49f4-8890-f34e689aac51",
   "metadata": {},
   "outputs": [],
   "source": [
    "classes = [str(i).zfill(5) for i in range(0, 43)]"
   ]
  },
  {
   "cell_type": "code",
   "execution_count": 26,
   "id": "a62a7ff8-2c54-413b-92ce-0ba117dda4f1",
   "metadata": {},
   "outputs": [],
   "source": [
    "# classes = [\"00012\", \"00013\", \"00014\", \"00019\", \"00020\", \"00021\", \"00027\", \"00028\", \"00031\", \"00033\", \"00034\", \"00035\"]"
   ]
  },
  {
   "cell_type": "markdown",
   "id": "b35ed5c3-7227-4cd7-9e59-2bdc8fe81ba5",
   "metadata": {},
   "source": [
    "### Image dimensions"
   ]
  },
  {
   "cell_type": "code",
   "execution_count": 27,
   "id": "d9e92bf8-4596-48cb-9ab6-29932575d977",
   "metadata": {},
   "outputs": [],
   "source": [
    "dims = (32, 32)"
   ]
  },
  {
   "cell_type": "markdown",
   "id": "1f3cbc8b-ecf8-41ef-a16a-45de26a5ee69",
   "metadata": {},
   "source": [
    "# Separtating images with desired classes"
   ]
  },
  {
   "cell_type": "markdown",
   "id": "4560b621-089f-4239-a142-0408780c6d59",
   "metadata": {},
   "source": [
    "## Define paths"
   ]
  },
  {
   "cell_type": "markdown",
   "id": "f4a0e825-d74d-49d9-a1f4-3ef5602b45c2",
   "metadata": {},
   "source": [
    "### New dataset paths"
   ]
  },
  {
   "cell_type": "code",
   "execution_count": 28,
   "id": "242d58c2-e09a-41a8-a2a3-5b4062ebefa3",
   "metadata": {},
   "outputs": [],
   "source": [
    "path_dataset = os.path.join(\"datasets\", dataset_name)\n",
    "os.mkdir(path_dataset)\n",
    "path_raw_dataset = os.path.join(\"raw-datasets\", dataset_name)\n",
    "os.mkdir(path_raw_dataset)\n",
    "path_raw_train = os.path.join(path_raw_dataset, \"raw_train\")\n",
    "os.mkdir(path_raw_train)\n",
    "path_raw_test = os.path.join(path_raw_dataset, \"raw_test\")\n",
    "os.mkdir(path_raw_test)\n",
    "path_train = os.path.join(path_dataset, \"train\")\n",
    "os.mkdir(path_train)\n",
    "path_test = os.path.join(path_dataset, \"test\")\n",
    "os.mkdir(path_test)"
   ]
  },
  {
   "cell_type": "markdown",
   "id": "c19d8a94-3d33-4108-a647-0cd28c4ab1f6",
   "metadata": {},
   "source": [
    "### Initial dataset paths"
   ]
  },
  {
   "cell_type": "code",
   "execution_count": 29,
   "id": "9a16cf00-fbac-4c95-9b7b-142c406b4e67",
   "metadata": {},
   "outputs": [],
   "source": [
    "path_initial_train = os.path.join(\n",
    "    \"initial-dataset\",\n",
    "    \"GTSRB_Final_Training_Images\",\n",
    "    \"GTSRB\", \"Final_Training\",\n",
    "    \"Images\"\n",
    ")\n",
    "path_initial_test_csv = os.path.join(\n",
    "    \"initial-dataset\",\n",
    "    \"GTSRB_Final_Test_GT\",\n",
    "    \"GT-final_test.csv\"\n",
    ")\n",
    "path_initial_test_images = os.path.join(\n",
    "    \"initial-dataset\",\n",
    "    \"GTSRB_Final_Test_Images\",\n",
    "    \"GTSRB\",\n",
    "    \"Final_Test\",\n",
    "    \"Images\"\n",
    ")"
   ]
  },
  {
   "cell_type": "markdown",
   "id": "b767b11c-586b-41c8-aaa8-155550c72437",
   "metadata": {},
   "source": [
    "## Train data"
   ]
  },
  {
   "cell_type": "markdown",
   "id": "c848f783-4859-4f46-ac4c-6cabbb78c249",
   "metadata": {},
   "source": [
    "### Move files and create one dataframe df_train_raw"
   ]
  },
  {
   "cell_type": "code",
   "execution_count": 30,
   "id": "dad1e5f8-0b6b-4ef1-a65a-1dca12a43e5e",
   "metadata": {},
   "outputs": [],
   "source": [
    "dfs = []\n",
    "\n",
    "new_class_id = 0\n",
    "\n",
    "classes_updates = {}\n",
    "\n",
    "# assume only subdirectories are in dataset_directory\n",
    "for cls in classes:\n",
    "    # path to all images + csv\n",
    "    dir_path = os.path.join(path_initial_train, cls)\n",
    "    \n",
    "    # dataframe with info about all images\n",
    "    df_dir = pd.read_csv(os.path.join(dir_path, f\"GT-{cls}.csv\"), sep=\";\")\n",
    "\n",
    "    # move all to directory: datasets/{dataset-name}/raw_train\n",
    "    new_names = []\n",
    "    for i, name in enumerate(df_dir[\"Filename\"]):\n",
    "        filename = f\"raw_{str(new_class_id).zfill(6)}_{str(i).zfill(6)}.ppm\"\n",
    "        shutil.copy2(os.path.join(dir_path, name), os.path.join(path_raw_train, filename))\n",
    "        new_names.append(filename)\n",
    "    df_dir[\"Filename\"] = pd.Series(new_names)\n",
    "    \n",
    "    # update classId\n",
    "    old_class_id = df_dir[\"ClassId\"].iloc[0]\n",
    "    df_dir[\"ClassId\"] = new_class_id\n",
    "    classes_updates[old_class_id] = new_class_id\n",
    "    new_class_id += 1\n",
    "    \n",
    "    dfs.append(df_dir)\n",
    "\n",
    "df_train_raw = pd.concat(dfs).reset_index(drop=True)\n",
    "df_train_raw.to_csv(os.path.join(path_raw_dataset, \"raw_train.csv\"), sep=\";\")"
   ]
  },
  {
   "cell_type": "markdown",
   "id": "3ba953a4-c39d-4561-8b2a-2c5fa8fd67de",
   "metadata": {},
   "source": [
    "## Test data"
   ]
  },
  {
   "cell_type": "markdown",
   "id": "a2e94d86-3983-4916-ba96-c4b3a1b17985",
   "metadata": {},
   "source": [
    "### Read csv"
   ]
  },
  {
   "cell_type": "code",
   "execution_count": 31,
   "id": "23cc646a-49b0-4daa-a149-6ed111375ab0",
   "metadata": {},
   "outputs": [],
   "source": [
    "df_initial_test = pd.read_csv(path_initial_test_csv, sep=\";\")"
   ]
  },
  {
   "cell_type": "markdown",
   "id": "d258b427-271c-4174-89da-4f966bb9a686",
   "metadata": {},
   "source": [
    "### Drop unused classes"
   ]
  },
  {
   "cell_type": "code",
   "execution_count": 32,
   "id": "b3cd070d-fc75-4a51-8a9d-c5660300872d",
   "metadata": {},
   "outputs": [],
   "source": [
    "df_initial_test = df_initial_test[df_initial_test[\"ClassId\"].isin(classes_updates.keys())]"
   ]
  },
  {
   "cell_type": "markdown",
   "id": "7350d9ef-a237-4b3d-844e-d331d873f409",
   "metadata": {},
   "source": [
    "### Update ClassId to new one"
   ]
  },
  {
   "cell_type": "code",
   "execution_count": 33,
   "id": "c486948f-a80a-41eb-8f36-e72a96e0b372",
   "metadata": {},
   "outputs": [],
   "source": [
    "df_test_raw = df_initial_test.copy(deep=True)\n",
    "df_test_raw[\"ClassId\"] = df_initial_test[\"ClassId\"].apply(lambda id: classes_updates[id])"
   ]
  },
  {
   "cell_type": "markdown",
   "id": "754e706f-0049-4c12-b8d0-5bb3666772d3",
   "metadata": {},
   "source": [
    "### Reset index"
   ]
  },
  {
   "cell_type": "code",
   "execution_count": 34,
   "id": "af012921-4b59-41b2-9abb-544485c45d30",
   "metadata": {},
   "outputs": [],
   "source": [
    "df_test_raw.reset_index(drop=True, inplace=True)"
   ]
  },
  {
   "cell_type": "markdown",
   "id": "1c1e892f-b255-43b2-84e2-67912dff76a9",
   "metadata": {},
   "source": [
    "### Move files to datasets/{dataset_name}/raw_test"
   ]
  },
  {
   "cell_type": "code",
   "execution_count": 35,
   "id": "59e7dd62-c17c-423e-9721-f2333429393e",
   "metadata": {},
   "outputs": [],
   "source": [
    "new_names = []\n",
    "for i, name in enumerate(df_test_raw[\"Filename\"]):\n",
    "    filename = f\"raw_{str(i).zfill(6)}.ppm\"\n",
    "    shutil.copy2(os.path.join(path_initial_test_images, name), os.path.join(path_raw_test, filename))\n",
    "    new_names.append(filename)\n",
    "df_test_raw[\"Filename\"] = pd.Series(new_names)"
   ]
  },
  {
   "cell_type": "markdown",
   "id": "744eb206-6217-4df8-b193-dc0edda1993b",
   "metadata": {},
   "source": [
    "### Save csv"
   ]
  },
  {
   "cell_type": "code",
   "execution_count": 36,
   "id": "3cac379b-8524-42c0-b83b-fda7bf508b86",
   "metadata": {},
   "outputs": [],
   "source": [
    "df_test_raw.to_csv(os.path.join(path_raw_dataset, \"raw_test.csv\"), sep=\";\")"
   ]
  },
  {
   "cell_type": "markdown",
   "id": "0baa2cc5-45e8-4b30-bf1c-57fe87b58ada",
   "metadata": {},
   "source": [
    "# Extracting ROI from raw images"
   ]
  },
  {
   "cell_type": "markdown",
   "id": "97c0a1ba-303c-4f61-92ad-e0e9a7611a10",
   "metadata": {},
   "source": [
    "### Train"
   ]
  },
  {
   "cell_type": "code",
   "execution_count": 37,
   "id": "533ec9d8-f4e4-4e3f-aeb4-87828b8119f6",
   "metadata": {},
   "outputs": [],
   "source": [
    "df_train = df_train_raw[[\"Filename\", \"ClassId\"]]"
   ]
  },
  {
   "cell_type": "code",
   "execution_count": 38,
   "id": "cc8141d3-0ab4-4d0f-bb4f-70b06547cc27",
   "metadata": {},
   "outputs": [],
   "source": [
    "for index, row in df_train_raw.iterrows():\n",
    "    img_path = os.path.join(path_raw_train, row[\"Filename\"])\n",
    "    img = cv2.imread(img_path)\n",
    "    roi = img[row[\"Roi.Y1\"]:row[\"Roi.Y2\"], row[\"Roi.X1\"]: row[\"Roi.X2\"]]\n",
    "    roi_resized= cv2.resize(roi, dims)\n",
    "    new_name = row[\"Filename\"][4:] #  exclued 'raw_'\n",
    "    df_train.loc[index, \"Filename\"] = new_name\n",
    "    cv2.imwrite(os.path.join(path_train, new_name), roi_resized)"
   ]
  },
  {
   "cell_type": "code",
   "execution_count": 39,
   "id": "3ec21770-fb0d-49df-a5b3-9614a8631814",
   "metadata": {},
   "outputs": [],
   "source": [
    "df_train.to_csv(os.path.join(path_dataset, \"train.csv\"), sep=\";\")"
   ]
  },
  {
   "cell_type": "markdown",
   "id": "d553f50a-a3f4-4016-a12f-475fffaaa114",
   "metadata": {},
   "source": [
    "### Test"
   ]
  },
  {
   "cell_type": "code",
   "execution_count": 40,
   "id": "3e6ce772-c73d-4c2e-b46e-36f63fc58814",
   "metadata": {},
   "outputs": [],
   "source": [
    "df_test = df_test_raw[[\"Filename\", \"ClassId\"]]"
   ]
  },
  {
   "cell_type": "code",
   "execution_count": 41,
   "id": "26687989-7b0f-4797-a727-af5a6f453821",
   "metadata": {},
   "outputs": [],
   "source": [
    "for index, row in df_test_raw.iterrows():\n",
    "    img_path = os.path.join(path_raw_test, row[\"Filename\"])\n",
    "    img = cv2.imread(img_path)\n",
    "    roi = img[row[\"Roi.Y1\"]:row[\"Roi.Y2\"], row[\"Roi.X1\"]: row[\"Roi.X2\"]]\n",
    "    roi_resized= cv2.resize(roi, dims)\n",
    "    new_name = row[\"Filename\"][4:] #  exclued 'raw_'\n",
    "    df_test.loc[index, \"Filename\"] = new_name\n",
    "    cv2.imwrite(os.path.join(path_test, new_name), roi_resized)"
   ]
  },
  {
   "cell_type": "code",
   "execution_count": 42,
   "id": "6722de49-ad7d-4423-895a-cee8ede6a8b5",
   "metadata": {},
   "outputs": [],
   "source": [
    "df_test.to_csv(os.path.join(path_dataset, \"test.csv\"), sep=\";\")"
   ]
  },
  {
   "cell_type": "markdown",
   "id": "e8bee09f-33c3-4633-8f93-60a7f97d9fe2",
   "metadata": {},
   "source": [
    "# Export to archive"
   ]
  },
  {
   "cell_type": "code",
   "execution_count": 43,
   "id": "14b379d9-5d6b-4c59-a710-ec0a91d5a81c",
   "metadata": {},
   "outputs": [
    {
     "data": {
      "text/plain": [
       "'/home/szymonkepinski/internship-cnn-trafic/zip/43-classes.zip'"
      ]
     },
     "execution_count": 43,
     "metadata": {},
     "output_type": "execute_result"
    }
   ],
   "source": [
    "shutil.make_archive(os.path.join(\"zip\", dataset_name), 'zip', path_dataset)"
   ]
  },
  {
   "cell_type": "code",
   "execution_count": null,
   "id": "12de440f-f572-4a33-8ee1-98f6cd64d8d2",
   "metadata": {},
   "outputs": [],
   "source": []
  }
 ],
 "metadata": {
  "kernelspec": {
   "display_name": "Python 3 (ipykernel)",
   "language": "python",
   "name": "python3"
  },
  "language_info": {
   "codemirror_mode": {
    "name": "ipython",
    "version": 3
   },
   "file_extension": ".py",
   "mimetype": "text/x-python",
   "name": "python",
   "nbconvert_exporter": "python",
   "pygments_lexer": "ipython3",
   "version": "3.11.4"
  }
 },
 "nbformat": 4,
 "nbformat_minor": 5
}
